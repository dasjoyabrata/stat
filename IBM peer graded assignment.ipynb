{
 "cells": [
  {
   "cell_type": "markdown",
   "id": "8cf8d176",
   "metadata": {},
   "source": [
    "# My Jupyter Notebook on IBM Watson Studio\n",
    "\n",
    "# Joyabarta Das\n",
    "Data Scientist\n"
   ]
  },
  {
   "cell_type": "markdown",
   "id": "aecf382a",
   "metadata": {
    "ExecuteTime": {
     "end_time": "2022-12-18T07:20:22.403286Z",
     "start_time": "2022-12-18T07:20:22.393156Z"
    }
   },
   "source": [
    "\n",
    "*I* *am* *interested* *in* *data* *science* *because* *I* *love* *to* *extract* *meaningful* *insight* *from* *data.*\n"
   ]
  },
  {
   "cell_type": "markdown",
   "id": "ee2e5076",
   "metadata": {
    "ExecuteTime": {
     "end_time": "2022-12-18T07:05:11.918612Z",
     "start_time": "2022-12-18T07:05:11.908956Z"
    }
   },
   "source": [
    "### sum of 1+1=2"
   ]
  },
  {
   "cell_type": "code",
   "execution_count": 13,
   "id": "c8a6dd8a",
   "metadata": {
    "ExecuteTime": {
     "end_time": "2022-12-18T07:06:15.820086Z",
     "start_time": "2022-12-18T07:06:15.805812Z"
    }
   },
   "outputs": [
    {
     "name": "stdout",
     "output_type": "stream",
     "text": [
      "sum of 1+1=  2\n"
     ]
    }
   ],
   "source": [
    "print(\"sum of 1+1= \",1+1)"
   ]
  },
  {
   "cell_type": "markdown",
   "id": "8cb97250",
   "metadata": {
    "ExecuteTime": {
     "end_time": "2022-12-18T07:14:07.280302Z",
     "start_time": "2022-12-18T07:14:07.265167Z"
    }
   },
   "source": [
    "\n",
    "\n",
    "[Github(Joyabrata Das)](https://github.com/dasjoyabrata \"Google's Homepage\")\n",
    "\n",
    "\n"
   ]
  },
  {
   "cell_type": "markdown",
   "id": "cff5e050",
   "metadata": {},
   "source": [
    "1. First Bullted list\n",
    "2. Second Bullted list\n"
   ]
  },
  {
   "cell_type": "markdown",
   "id": "c555c96f",
   "metadata": {},
   "source": [
    "Strikethrough uses ~Joyabrata Das~"
   ]
  }
 ],
 "metadata": {
  "kernelspec": {
   "display_name": "Python 3 (ipykernel)",
   "language": "python",
   "name": "python3"
  },
  "language_info": {
   "codemirror_mode": {
    "name": "ipython",
    "version": 3
   },
   "file_extension": ".py",
   "mimetype": "text/x-python",
   "name": "python",
   "nbconvert_exporter": "python",
   "pygments_lexer": "ipython3",
   "version": "3.9.12"
  },
  "latex_envs": {
   "LaTeX_envs_menu_present": true,
   "autoclose": false,
   "autocomplete": true,
   "bibliofile": "biblio.bib",
   "cite_by": "apalike",
   "current_citInitial": 1,
   "eqLabelWithNumbers": true,
   "eqNumInitial": 1,
   "hotkeys": {
    "equation": "Ctrl-E",
    "itemize": "Ctrl-I"
   },
   "labels_anchors": false,
   "latex_user_defs": false,
   "report_style_numbering": false,
   "user_envs_cfg": false
  },
  "toc": {
   "base_numbering": 1,
   "nav_menu": {},
   "number_sections": false,
   "sideBar": true,
   "skip_h1_title": false,
   "title_cell": "Table of Contents",
   "title_sidebar": "Contents",
   "toc_cell": false,
   "toc_position": {},
   "toc_section_display": true,
   "toc_window_display": true
  },
  "varInspector": {
   "cols": {
    "lenName": 16,
    "lenType": 16,
    "lenVar": 40
   },
   "kernels_config": {
    "python": {
     "delete_cmd_postfix": "",
     "delete_cmd_prefix": "del ",
     "library": "var_list.py",
     "varRefreshCmd": "print(var_dic_list())"
    },
    "r": {
     "delete_cmd_postfix": ") ",
     "delete_cmd_prefix": "rm(",
     "library": "var_list.r",
     "varRefreshCmd": "cat(var_dic_list()) "
    }
   },
   "types_to_exclude": [
    "module",
    "function",
    "builtin_function_or_method",
    "instance",
    "_Feature"
   ],
   "window_display": false
  }
 },
 "nbformat": 4,
 "nbformat_minor": 5
}
